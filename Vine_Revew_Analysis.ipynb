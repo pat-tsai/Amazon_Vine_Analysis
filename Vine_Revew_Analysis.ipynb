{
  "nbformat": 4,
  "nbformat_minor": 0,
  "metadata": {
    "colab": {
      "name": "Vine_Revew_Analysis.ipynb",
      "provenance": [],
      "collapsed_sections": [],
      "include_colab_link": true
    },
    "kernelspec": {
      "display_name": "PythonData",
      "language": "python",
      "name": "pythondata"
    },
    "language_info": {
      "codemirror_mode": {
        "name": "ipython",
        "version": 3
      },
      "file_extension": ".py",
      "mimetype": "text/x-python",
      "name": "python",
      "nbconvert_exporter": "python",
      "pygments_lexer": "ipython3",
      "version": "3.7.7"
    },
    "nteract": {
      "version": "0.12.3"
    }
  },
  "cells": [
    {
      "cell_type": "markdown",
      "metadata": {
        "id": "view-in-github",
        "colab_type": "text"
      },
      "source": [
        "<a href=\"https://colab.research.google.com/github/pat-tsai/Amazon_Vine_Analysis/blob/main/Vine_Revew_Analysis.ipynb\" target=\"_parent\"><img src=\"https://colab.research.google.com/assets/colab-badge.svg\" alt=\"Open In Colab\"/></a>"
      ]
    },
    {
      "cell_type": "code",
      "metadata": {
        "id": "V58rxea0HqSa",
        "outputId": "a586de30-718c-4dd8-e30e-383583401dc5",
        "colab": {
          "base_uri": "https://localhost:8080/"
        }
      },
      "source": [
        "import os\n",
        "# Find the latest version of spark 2.0  from http://www-us.apache.org/dist/spark/ and enter as the spark version\n",
        "# For example:\n",
        "# spark_version = 'spark-3.0.0'\n",
        "spark_version = 'spark-3.0.1'\n",
        "os.environ['SPARK_VERSION']=spark_version\n",
        "\n",
        "# Install Spark and Java\n",
        "!apt-get update\n",
        "!apt-get install openjdk-11-jdk-headless -qq > /dev/null\n",
        "!wget -q http://www-us.apache.org/dist/spark/$SPARK_VERSION/$SPARK_VERSION-bin-hadoop2.7.tgz\n",
        "!tar xf $SPARK_VERSION-bin-hadoop2.7.tgz\n",
        "!pip install -q findspark\n",
        "\n",
        "# Set Environment Variables\n",
        "import os\n",
        "os.environ[\"JAVA_HOME\"] = \"/usr/lib/jvm/java-11-openjdk-amd64\"\n",
        "os.environ[\"SPARK_HOME\"] = f\"/content/{spark_version}-bin-hadoop2.7\"\n",
        "\n",
        "# Start a SparkSession\n",
        "import findspark\n",
        "findspark.init()"
      ],
      "execution_count": 6,
      "outputs": [
        {
          "output_type": "stream",
          "text": [
            "\r0% [Working]\r            \rIgn:1 https://developer.download.nvidia.com/compute/cuda/repos/ubuntu1804/x86_64  InRelease\n",
            "\r0% [Connecting to archive.ubuntu.com (91.189.88.152)] [Waiting for headers] [Co\r                                                                               \rIgn:2 https://developer.download.nvidia.com/compute/machine-learning/repos/ubuntu1804/x86_64  InRelease\n",
            "\r0% [Connecting to archive.ubuntu.com (91.189.88.152)] [Waiting for headers] [Co\r                                                                               \rHit:3 https://developer.download.nvidia.com/compute/cuda/repos/ubuntu1804/x86_64  Release\n",
            "\r0% [Connecting to archive.ubuntu.com (91.189.88.152)] [Waiting for headers] [Co\r0% [Release.gpg gpgv 697 B] [Connecting to archive.ubuntu.com (91.189.88.152)] \r                                                                               \rHit:4 http://security.ubuntu.com/ubuntu bionic-security InRelease\n",
            "Hit:5 https://developer.download.nvidia.com/compute/machine-learning/repos/ubuntu1804/x86_64  Release\n",
            "Hit:6 http://archive.ubuntu.com/ubuntu bionic InRelease\n",
            "Hit:7 http://ppa.launchpad.net/c2d4u.team/c2d4u4.0+/ubuntu bionic InRelease\n",
            "Hit:9 http://archive.ubuntu.com/ubuntu bionic-updates InRelease\n",
            "Hit:10 https://cloud.r-project.org/bin/linux/ubuntu bionic-cran40/ InRelease\n",
            "Hit:11 http://archive.ubuntu.com/ubuntu bionic-backports InRelease\n",
            "Hit:12 http://ppa.launchpad.net/graphics-drivers/ppa/ubuntu bionic InRelease\n",
            "Reading package lists... Done\n"
          ],
          "name": "stdout"
        }
      ]
    },
    {
      "cell_type": "code",
      "metadata": {
        "id": "_xKwTpATHqSe",
        "outputId": "359df300-866b-4193-9414-110c582f1130",
        "colab": {
          "base_uri": "https://localhost:8080/"
        }
      },
      "source": [
        "# Download the Postgres driver that will allow Spark to interact with Postgres.\n",
        "!wget https://jdbc.postgresql.org/download/postgresql-42.2.16.jar"
      ],
      "execution_count": 7,
      "outputs": [
        {
          "output_type": "stream",
          "text": [
            "--2020-11-02 08:44:34--  https://jdbc.postgresql.org/download/postgresql-42.2.16.jar\n",
            "Resolving jdbc.postgresql.org (jdbc.postgresql.org)... 72.32.157.228, 2001:4800:3e1:1::228\n",
            "Connecting to jdbc.postgresql.org (jdbc.postgresql.org)|72.32.157.228|:443... connected.\n",
            "HTTP request sent, awaiting response... 200 OK\n",
            "Length: 1002883 (979K) [application/java-archive]\n",
            "Saving to: ‘postgresql-42.2.16.jar.1’\n",
            "\n",
            "postgresql-42.2.16. 100%[===================>] 979.38K  3.63MB/s    in 0.3s    \n",
            "\n",
            "2020-11-02 08:44:34 (3.63 MB/s) - ‘postgresql-42.2.16.jar.1’ saved [1002883/1002883]\n",
            "\n"
          ],
          "name": "stdout"
        }
      ]
    },
    {
      "cell_type": "code",
      "metadata": {
        "id": "MMqDAjVS0KN9"
      },
      "source": [
        "from pyspark.sql import SparkSession\n",
        "spark = SparkSession.builder.appName(\"BigData-Challenge\").config(\"spark.driver.extraClassPath\",\"/content/postgresql-42.2.16.jar\").getOrCreate()"
      ],
      "execution_count": 8,
      "outputs": []
    },
    {
      "cell_type": "markdown",
      "metadata": {
        "id": "cyBsySGuY-9V"
      },
      "source": [
        "### Load Amazon Data into Spark DataFrame"
      ]
    },
    {
      "cell_type": "code",
      "metadata": {
        "id": "CtCmBhQJY-9Z",
        "outputId": "53cc68ad-5c4b-42f3-e9eb-2023bb955601",
        "colab": {
          "base_uri": "https://localhost:8080/"
        }
      },
      "source": [
        "from pyspark import SparkFiles\n",
        "url = \"https://s3.amazonaws.com/amazon-reviews-pds/tsv/amazon_reviews_us_PC_v1_00.tsv.gz\"\n",
        "spark.sparkContext.addFile(url)\n",
        "df = spark.read.option(\"encoding\", \"UTF-8\").csv(SparkFiles.get(\"\"), sep=\"\\t\", header=True, inferSchema=True)\n",
        "df.show()"
      ],
      "execution_count": 9,
      "outputs": [
        {
          "output_type": "stream",
          "text": [
            "+-----------+-----------+--------------+----------+--------------+--------------------+----------------+-----------+-------------+-----------+----+-----------------+--------------------+--------------------+-----------+\n",
            "|marketplace|customer_id|     review_id|product_id|product_parent|       product_title|product_category|star_rating|helpful_votes|total_votes|vine|verified_purchase|     review_headline|         review_body|review_date|\n",
            "+-----------+-----------+--------------+----------+--------------+--------------------+----------------+-----------+-------------+-----------+----+-----------------+--------------------+--------------------+-----------+\n",
            "|         US|   22873041|R3ARRMDEGED8RD|B00KJWQIIC|     335625766|Plemo 14-Inch Lap...|              PC|          5|            0|          0|   N|                Y|Pleasantly surprised|I was very surpri...| 2015-08-31|\n",
            "|         US|   30088427| RQ28TSA020Y6J|B013ALA9LA|     671157305|TP-Link OnHub AC1...|              PC|          5|           24|         31|   N|                N|OnHub is a pretty...|I am a Google emp...| 2015-08-31|\n",
            "|         US|   20329786| RUXJRZCT6953M|B00PML2GQ8|     982036237|AmazonBasics USB ...|              PC|          1|            2|          2|   N|                N|None of them work...|Bought cables in ...| 2015-08-31|\n",
            "|         US|   14215710| R7EO0UO6BPB71|B001NS0OZ4|     576587596|Transcend P8 15-i...|              PC|          1|            0|          0|   N|                Y|just keep searching.|nope, cheap and slow| 2015-08-31|\n",
            "|         US|   38264512|R39NJY2YJ1JFSV|B00AQMTND2|     964759214|Aleratec SATA Dat...|              PC|          5|            0|          0|   N|                Y|          Five Stars|Excellent! Great ...| 2015-08-31|\n",
            "|         US|   30548466|R31SR7REWNX7CF|B00KX4TORI|     170101802|Kingston Digital ...|              PC|          5|            0|          0|   N|                Y|Good quality, wor...|Good quality,work...| 2015-08-31|\n",
            "|         US|     589298| RVBP8I1R0CTZ8|B00P17WEMY|     206124740|White 9 Inch Unlo...|              PC|          3|            1|          2|   N|                Y|in fact this is t...|This demn tablet ...| 2015-08-31|\n",
            "|         US|   49329488|R1QF6RS1PDLU18|B00TR05L9Y|     778403103|Lenovo TAB2 A10 -...|              PC|          4|            1|          1|   N|                Y|                Good|I am not sure I d...| 2015-08-31|\n",
            "|         US|   50728290|R23AICGEDAJQL1|B0098Y77OG|     177098042|                Acer|              PC|          1|            0|          0|   N|                Y|You get what you ...|After exactly 45 ...| 2015-08-31|\n",
            "|         US|   37802374|R2EY3N4K9W19UP|B00IFYEYXC|     602496520|AzureWave Broadco...|              PC|          5|            3|          4|   N|                Y|Great for Windows...|Replaced my Intel...| 2015-08-31|\n",
            "|         US|   52027882| RC9AW4HKJ016M|B0091ITP0S|     977217357|HDE Rotating iPad...|              PC|          1|            0|          0|   N|                Y|            One Star|IT HAS ALREADY CR...| 2015-08-31|\n",
            "|         US|   41770239|R2ALWJE9N6ZBXD|B008I21EA2|     295632907|Linksys AC1750 Wi...|              PC|          1|            0|          0|   N|                N|   Very Disappointed|Very disappointed...| 2015-08-31|\n",
            "|         US|   42560427|R2G5FPA4OX37GV|B00MRB7SBO|     922591915|iPad Pro 9.7, iPa...|              PC|          5|            1|          1|   N|                Y|          Five Stars|Works well. I use...| 2015-08-31|\n",
            "|         US|   46345923|R1IKTSEVXSIMOD|B00LLER2CS|     997551273|SanDisk 16GB CZ43...|              PC|          5|            0|          0|   N|                Y|The encryption so...|The encryption so...| 2015-08-31|\n",
            "|         US|   41751192|R2YA6G6SRFEWF6|B00B0CQCCC|     937999925|TRENDnet Wireless...|              PC|          1|            0|          1|   N|                Y|Didn't last 2 years.|I have owned this...| 2015-08-31|\n",
            "|         US|   21176481| RS9H1N9I3Z1IA|B00GU8W5AE|      13865167|Redragon M901 PER...|              PC|          5|            0|          0|   N|                Y|Awesome gaming mouse|My first gaming m...| 2015-08-31|\n",
            "|         US|   10674058| RKKLBI76VTDNT|B00XHMXJQ0|     967483469|Mudder MHL Adapte...|              PC|          1|            0|          0|   N|                Y|            One Star|I cannot get it t...| 2015-08-31|\n",
            "|         US|   43341796|R2NJ3WFUS4E5G6|B00YGJJQ6U|     986548413|Fintie iPad Air 2...|              PC|          4|            0|          0|   N|                Y|Great choices of ...|Love that Finite ...| 2015-08-31|\n",
            "|         US|   13232866|R21PTQNLGCBN0I|B00XMN20Y6|     873354048|Fintie iPad 2/3/4...|              PC|          5|            0|          0|   N|                Y|          Five Stars|Nice color, I lov...| 2015-08-31|\n",
            "|         US|   29333557|R3G4RT3EQ9RSY7|B00MA40W9I|     535866197|Egoway® New Lapto...|              PC|          1|            0|          0|   N|                Y|Totally wasted $6...|Totally wasted $6...| 2015-08-31|\n",
            "+-----------+-----------+--------------+----------+--------------+--------------------+----------------+-----------+-------------+-----------+----+-----------------+--------------------+--------------------+-----------+\n",
            "only showing top 20 rows\n",
            "\n"
          ],
          "name": "stdout"
        }
      ]
    },
    {
      "cell_type": "code",
      "metadata": {
        "id": "X0NJWmhWLaLg",
        "outputId": "973b290c-1e1d-4041-d86d-23a2819ded9f",
        "colab": {
          "base_uri": "https://localhost:8080/"
        }
      },
      "source": [
        "# filtering df to only display votes >20\n",
        "filtered_df = df.filter(\"total_votes>20\")\n",
        "filtered_df.show()"
      ],
      "execution_count": 12,
      "outputs": [
        {
          "output_type": "stream",
          "text": [
            "+-----------+-----------+--------------+----------+--------------+--------------------+----------------+-----------+-------------+-----------+----+-----------------+--------------------+--------------------+-----------+\n",
            "|marketplace|customer_id|     review_id|product_id|product_parent|       product_title|product_category|star_rating|helpful_votes|total_votes|vine|verified_purchase|     review_headline|         review_body|review_date|\n",
            "+-----------+-----------+--------------+----------+--------------+--------------------+----------------+-----------+-------------+-----------+----+-----------------+--------------------+--------------------+-----------+\n",
            "|         US|   30088427| RQ28TSA020Y6J|B013ALA9LA|     671157305|TP-Link OnHub AC1...|              PC|          5|           24|         31|   N|                N|OnHub is a pretty...|I am a Google emp...| 2015-08-31|\n",
            "|         US|   33168772|R25D83AEJRXUWO|B011KFQASE|     179405799|Asus F555LA-AB31 ...|              PC|          4|           18|         21|   N|                Y|Nice Solid 1080p ...|A nice solid lapt...| 2015-08-31|\n",
            "|         US|   48034474|R35OW0SJPJWAHO|B00JQZJ7YU|     937857628|iXCC Silicon Case...|              PC|          1|           12|        162|   N|                Y|Cannot be used wi...|If you plan to us...| 2015-08-31|\n",
            "|         US|   38631333| RAP2ETU511BOI|B00J46VW9O|     172187766|iXCC Black Lightn...|              PC|          1|            5|         99|   N|                Y|Shorted out after...|Worked for 2 days...| 2015-08-31|\n",
            "|         US|   37757447|R1S9O5CCTD61ZD|B00QR2CY6S|     819547817|Fusion4K High Spe...|              PC|          1|           45|         71|   N|                N|Same performance ...|I've never seen s...| 2015-08-31|\n",
            "|         US|   50064665|R1RMOCWMV8F4VH|B00632RJJY|     628829616|LG Super Multi Bl...|              PC|          1|            5|         21|   N|                Y|Showed up under s...|Showed up under s...| 2015-08-31|\n",
            "|         US|   29916900|R351KVE3VO78W9|B00WIX4JMC|     358854957|FIDO U2F Security...|              PC|          3|           36|         42|   N|                Y|1) It isn't sturd...|It works but ther...| 2015-08-31|\n",
            "|         US|    2054169| R4LANIHO6EXAH|B00XPXFW7U|     590055383|CaseBuy Soft Sili...|              PC|          4|           35|         35|   N|                Y|        Pretty good!|I just got my key...| 2015-08-31|\n",
            "|         US|   45557365|R3V26MZUOWAUA4|B00XKU47Y2|     242671524|Opolar Laptop Cooler|              PC|          3|           35|         45|   N|                Y|Fan does good job...|The fan itself wo...| 2015-08-31|\n",
            "|         US|   43049754|R38OLNY5GR1PW6|B00X2JQ8K2|     954779825|TAB A case, Samsu...|              PC|          5|           44|         44|   N|                Y|Stylish Case for ...|Love, Love, Love ...| 2015-08-31|\n",
            "|         US|   50454721|R2GK7RJNIAREIT|B008P54T1I|     857605204|Apple 45W MagSafe...|              PC|          1|           30|         32|   N|                Y|        Don't buy it|This power adapte...| 2015-08-31|\n",
            "|         US|   36507132|R2OWRP6FXXECMK|B00R45V3SW|     274617078|Seagate Backup Pl...|              PC|          1|           42|         44|   N|                Y|Bought 2 new driv...|[UPDATED Jan 21, ...| 2015-08-31|\n",
            "|         US|    1091413|R260E9JPZZZ01Q|B00HBYSY60|     177127755|WARP 38000 Series...|              PC|          2|           10|         27|   N|                N|           Two Stars|not enough storag...| 2015-08-31|\n",
            "|         US|   42740308| ROR2FE6Y8EZYG|B00R92CEVU|     678269222|NETGEAR CM500 (16...|              PC|          5|           19|         22|   N|                Y|Lightning fast --...|Lightning fast --...| 2015-08-31|\n",
            "|         US|   28275625|R1UWNRDWUZR68D|B004D3QOPA|     504400007|Gigabit 1000BT De...|              PC|          3|           60|         60|   N|                Y|Good for a couple...|Ok.. I purchased ...| 2015-08-31|\n",
            "|         US|    7599429| RIJYX8PG45XOB|B00WHYSHF2|     768120866| Poin2 Chromebook 11|              PC|          5|           51|         52|   N|                Y|it brings really ...|My husband is a t...| 2015-08-31|\n",
            "|         US|   25098784|R2WPARQ94X1HCG|B00VQP3DNY|     942854828|ASUS C201 11.6 In...|              PC|          1|            0|         22|   N|                Y|       ORDER MISTAKE|I ordered the wro...| 2015-08-31|\n",
            "|         US|   25506832|R24PUIWP0XB411|B013NH0IEE|     476320409|SZAC Micro SD Car...|              PC|          1|           27|         27|   N|                Y|Good luck getting...|Don't be fooled w...| 2015-08-31|\n",
            "|         US|   20457564| RBYFK3W84LW9F|B010SBAJDS|     904532960|Toshiba Satellite...|              PC|          2|           32|         37|   N|                Y|Not impressed. Di...|I purchased 4 of ...| 2015-08-31|\n",
            "|         US|   35314326| RT880ROJ1I4Z5|B00JFCD2R2|     158990248|HP 753960-B21 NVI...|              PC|          5|           22|         31|   N|                N|Rendering your wo...|Best graphics car...| 2015-08-31|\n",
            "+-----------+-----------+--------------+----------+--------------+--------------------+----------------+-----------+-------------+-----------+----+-----------------+--------------------+--------------------+-----------+\n",
            "only showing top 20 rows\n",
            "\n"
          ],
          "name": "stdout"
        }
      ]
    },
    {
      "cell_type": "code",
      "metadata": {
        "id": "g2sZC8HjLamY",
        "outputId": "c0d446f2-5918-4328-8359-c4b01e4733ea",
        "colab": {
          "base_uri": "https://localhost:8080/"
        }
      },
      "source": [
        "filtered_df = filtered_df.filter(\"helpful_votes>(0.5 * total_votes)\")\n",
        "filtered_df.show()"
      ],
      "execution_count": 15,
      "outputs": [
        {
          "output_type": "stream",
          "text": [
            "+-----------+-----------+--------------+----------+--------------+--------------------+----------------+-----------+-------------+-----------+----+-----------------+--------------------+--------------------+-----------+\n",
            "|marketplace|customer_id|     review_id|product_id|product_parent|       product_title|product_category|star_rating|helpful_votes|total_votes|vine|verified_purchase|     review_headline|         review_body|review_date|\n",
            "+-----------+-----------+--------------+----------+--------------+--------------------+----------------+-----------+-------------+-----------+----+-----------------+--------------------+--------------------+-----------+\n",
            "|         US|   30088427| RQ28TSA020Y6J|B013ALA9LA|     671157305|TP-Link OnHub AC1...|              PC|          5|           24|         31|   N|                N|OnHub is a pretty...|I am a Google emp...| 2015-08-31|\n",
            "|         US|   33168772|R25D83AEJRXUWO|B011KFQASE|     179405799|Asus F555LA-AB31 ...|              PC|          4|           18|         21|   N|                Y|Nice Solid 1080p ...|A nice solid lapt...| 2015-08-31|\n",
            "|         US|   37757447|R1S9O5CCTD61ZD|B00QR2CY6S|     819547817|Fusion4K High Spe...|              PC|          1|           45|         71|   N|                N|Same performance ...|I've never seen s...| 2015-08-31|\n",
            "|         US|   29916900|R351KVE3VO78W9|B00WIX4JMC|     358854957|FIDO U2F Security...|              PC|          3|           36|         42|   N|                Y|1) It isn't sturd...|It works but ther...| 2015-08-31|\n",
            "|         US|    2054169| R4LANIHO6EXAH|B00XPXFW7U|     590055383|CaseBuy Soft Sili...|              PC|          4|           35|         35|   N|                Y|        Pretty good!|I just got my key...| 2015-08-31|\n",
            "|         US|   45557365|R3V26MZUOWAUA4|B00XKU47Y2|     242671524|Opolar Laptop Cooler|              PC|          3|           35|         45|   N|                Y|Fan does good job...|The fan itself wo...| 2015-08-31|\n",
            "|         US|   43049754|R38OLNY5GR1PW6|B00X2JQ8K2|     954779825|TAB A case, Samsu...|              PC|          5|           44|         44|   N|                Y|Stylish Case for ...|Love, Love, Love ...| 2015-08-31|\n",
            "|         US|   50454721|R2GK7RJNIAREIT|B008P54T1I|     857605204|Apple 45W MagSafe...|              PC|          1|           30|         32|   N|                Y|        Don't buy it|This power adapte...| 2015-08-31|\n",
            "|         US|   36507132|R2OWRP6FXXECMK|B00R45V3SW|     274617078|Seagate Backup Pl...|              PC|          1|           42|         44|   N|                Y|Bought 2 new driv...|[UPDATED Jan 21, ...| 2015-08-31|\n",
            "|         US|   42740308| ROR2FE6Y8EZYG|B00R92CEVU|     678269222|NETGEAR CM500 (16...|              PC|          5|           19|         22|   N|                Y|Lightning fast --...|Lightning fast --...| 2015-08-31|\n",
            "|         US|   28275625|R1UWNRDWUZR68D|B004D3QOPA|     504400007|Gigabit 1000BT De...|              PC|          3|           60|         60|   N|                Y|Good for a couple...|Ok.. I purchased ...| 2015-08-31|\n",
            "|         US|    7599429| RIJYX8PG45XOB|B00WHYSHF2|     768120866| Poin2 Chromebook 11|              PC|          5|           51|         52|   N|                Y|it brings really ...|My husband is a t...| 2015-08-31|\n",
            "|         US|   25506832|R24PUIWP0XB411|B013NH0IEE|     476320409|SZAC Micro SD Car...|              PC|          1|           27|         27|   N|                Y|Good luck getting...|Don't be fooled w...| 2015-08-31|\n",
            "|         US|   20457564| RBYFK3W84LW9F|B010SBAJDS|     904532960|Toshiba Satellite...|              PC|          2|           32|         37|   N|                Y|Not impressed. Di...|I purchased 4 of ...| 2015-08-31|\n",
            "|         US|   35314326| RT880ROJ1I4Z5|B00JFCD2R2|     158990248|HP 753960-B21 NVI...|              PC|          5|           22|         31|   N|                N|Rendering your wo...|Best graphics car...| 2015-08-31|\n",
            "|         US|   21407360|R2ICLUNZ6A5DXB|B00DVISMCG|     392617397|Crucial Ballistix...|              PC|          1|           16|         23|   N|                Y|Timing was differ...|Product descripti...| 2015-08-31|\n",
            "|         US|   47301751|R3H11HIP4SCL9V|B00UTV8OEE|     423270920|ASUS Transformer ...|              PC|          5|           31|         33|   N|                Y|This is a good cr...|This is a good cr...| 2015-08-31|\n",
            "|         US|   47378845| RPG85MPSR10JG|B00MA5U1FW|     908032034|ARRIS SURFboard D...|              PC|          1|           23|         26|   N|                Y|the service was w...|Apparently I know...| 2015-08-31|\n",
            "|         US|   42477503|R2UAVRDG3AUF3K|B013ALA9LA|     671157305|TP-Link OnHub AC1...|              PC|          5|           14|         21|   N|                N|OnHub delivers on...|Clean design. Fee...| 2015-08-31|\n",
            "|         US|   18283551|R2CEZU1K5CVLRL|B007GMPZ0A|      95631789|TP-LINK N900 2.4G...|              PC|          1|           17|         22|   N|                Y|This product does...|The short version...| 2015-08-31|\n",
            "+-----------+-----------+--------------+----------+--------------+--------------------+----------------+-----------+-------------+-----------+----+-----------------+--------------------+--------------------+-----------+\n",
            "only showing top 20 rows\n",
            "\n"
          ],
          "name": "stdout"
        }
      ]
    },
    {
      "cell_type": "code",
      "metadata": {
        "id": "ZZEUaynDLbKQ",
        "outputId": "bdab5a89-5315-4396-c907-78efaf31234c",
        "colab": {
          "base_uri": "https://localhost:8080/"
        }
      },
      "source": [
        "is_vine = filtered_df.filter(\"vine=='Y'\")\n",
        "is_vine.show()"
      ],
      "execution_count": 20,
      "outputs": [
        {
          "output_type": "stream",
          "text": [
            "+-----------+-----------+--------------+----------+--------------+--------------------+----------------+-----------+-------------+-----------+----+-----------------+--------------------+--------------------+-----------+\n",
            "|marketplace|customer_id|     review_id|product_id|product_parent|       product_title|product_category|star_rating|helpful_votes|total_votes|vine|verified_purchase|     review_headline|         review_body|review_date|\n",
            "+-----------+-----------+--------------+----------+--------------+--------------------+----------------+-----------+-------------+-----------+----+-----------------+--------------------+--------------------+-----------+\n",
            "|         US|   52772260|R3J2DPYUH6453D|B010LHRFYU|     420599738|Wacom Intuos Art ...|              PC|          5|          136|        153|   Y|                N|Impression from a...|I never used a di...| 2015-08-31|\n",
            "|         US|   45515977|R25QTFLERWK6SJ|B010Q57T02|     958691879|SanDisk 128GB Ult...|              PC|          3|          852|        956|   Y|                N|Triple comparison...|I was recently of...| 2015-08-28|\n",
            "|         US|   51917998|R1BG71K9B61LI1|B00XJQASXG|     505901121|HP Pavilion 23-q0...|              PC|          4|           39|         39|   Y|                N|the AMD A8-7410 p...|This is an all-in...| 2015-08-25|\n",
            "|         US|   38521453| R8WGX426U56E0|B00VIM9VQ8|     182018494|AmazonBasics Roll...|              PC|          5|           19|         21|   Y|                N|Great Protective ...|I love this lapto...| 2015-08-24|\n",
            "|         US|   38901787| R614TCIDD36LE|B01065S79E|     268745989|Seagate Game Driv...|              PC|          4|          131|        147|   Y|                N|Xbox One can use ...|[Good]<br /><br /...| 2015-08-24|\n",
            "|         US|   52137927|R28X5K1OZBQSBK|B00ZD8R30Y|     159303287|Toshiba Satellite...|              PC|          5|           25|         28|   Y|                N|Excellent desktop...|This Toshiba Sate...| 2015-08-22|\n",
            "|         US|   52975306|R2CUDWKAUWGHIT|B00YQO6BI6|     757321624|Toshiba Satellite...|              PC|          5|           19|         24|   Y|                N|Overcoming the dr...|... of another \\\\...| 2015-08-19|\n",
            "|         US|   47703338| R886ADSI1HBU5|B00VWVZ0V0|     655721821|Dell DW316 Extern...|              PC|          5|           88|         97|   Y|                N|Great external dr...|This is a slick l...| 2015-08-19|\n",
            "|         US|   52464985|R3TTJTAND1CCSV|B00YY3X678|     114035524|ASUS C100PA-DB01 ...|              PC|          5|           21|         23|   Y|                N|I'm 100% Sold On ...|I can't remember ...| 2015-08-19|\n",
            "|         US|   50592803|R1W39WXYWNFJBG|B00VWVZ0V0|     655721821|Dell DW316 Extern...|              PC|          5|           32|         35|   Y|                N|Excellent Cross P...|Full disclosure: ...| 2015-08-18|\n",
            "|         US|   49376289|R18WUOSN0TQD9X|B00PC9HG0Q|      77752589|Dell Power Compan...|              PC|          4|           25|         26|   Y|                N|Good back-up opti...|Update 8/22/15:  ...| 2015-08-16|\n",
            "|         US|   52320949|R2UGZFCPGAI6OP|B00ZPL59LO|     235607317|Toshiba Satellite...|              PC|          5|           19|         21|   Y|                N|Great value, soli...|This is a solid e...| 2015-08-12|\n",
            "|         US|   45838866| R7Y17L4FLYYXN|B00XQXZM7O|     491922041|Dell Inspiron 17 ...|              PC|          4|           23|         30|   Y|                N|Core i3 17.3\" - s...|The Inspiron 17 5...| 2015-08-12|\n",
            "|         US|   32483321|R1YEAR1J3MEI3I|B00Z0UWWYC|     561160357|Logitech G920 Dri...|              PC|          2|          143|        159|   Y|                N|Solid if overpric...|The Logitech G29 ...| 2015-08-12|\n",
            "|         US|   49486523|R1FI3ZKOA0RMR9|B01065S79E|     268745989|Seagate Game Driv...|              PC|          5|          145|        164|   Y|                N|True \"plug and sa...|So I just receive...| 2015-08-11|\n",
            "|         US|   36406318| RFZQEATC76JDP|B00Z0UWWYC|     561160357|Logitech G920 Dri...|              PC|          3|           17|         22|   Y|                N|A solid product, ...|The Logitech G29 ...| 2015-08-11|\n",
            "|         US|   52978432|R1LDVLZ6TI5MSX|B010SBB27U|     202778598|Toshiba Satellite...|              PC|          3|           18|         27|   Y|                N|Definitely some p...|With the new Tosh...| 2015-08-11|\n",
            "|         US|   17957446|R3GNG9SISW41OZ|B00VWVZ0V0|     655721821|Dell DW316 Extern...|              PC|          5|          143|        153|   Y|                N|(UPDATED Dec 19, ...|Review Updated 19...| 2015-08-11|\n",
            "|         US|   21454753| RSDDNABYLRGA1|B00YR6BMS2|     300786811|ASUS K501LX 15.6 ...|              PC|          3|           60|         71|   Y|                N|Great except for ...|The ASUS K501LX-E...| 2015-08-10|\n",
            "|         US|   35731740|R2YKR6HFL47R8L|B01065S79E|     268745989|Seagate Game Driv...|              PC|          5|           26|         35|   Y|                N|Don't Delete Game...|The display showe...| 2015-08-10|\n",
            "+-----------+-----------+--------------+----------+--------------+--------------------+----------------+-----------+-------------+-----------+----+-----------------+--------------------+--------------------+-----------+\n",
            "only showing top 20 rows\n",
            "\n"
          ],
          "name": "stdout"
        }
      ]
    },
    {
      "cell_type": "code",
      "metadata": {
        "id": "HXZ9wIcDLbwk",
        "outputId": "80d41d3e-054b-4d77-8e5f-ad4ae1ea5fa7",
        "colab": {
          "base_uri": "https://localhost:8080/"
        }
      },
      "source": [
        "is_not_vine = filtered_df.filter(\"vine=='N'\")\n",
        "is_not_vine.show()"
      ],
      "execution_count": 21,
      "outputs": [
        {
          "output_type": "stream",
          "text": [
            "+-----------+-----------+--------------+----------+--------------+--------------------+----------------+-----------+-------------+-----------+----+-----------------+--------------------+--------------------+-----------+\n",
            "|marketplace|customer_id|     review_id|product_id|product_parent|       product_title|product_category|star_rating|helpful_votes|total_votes|vine|verified_purchase|     review_headline|         review_body|review_date|\n",
            "+-----------+-----------+--------------+----------+--------------+--------------------+----------------+-----------+-------------+-----------+----+-----------------+--------------------+--------------------+-----------+\n",
            "|         US|   30088427| RQ28TSA020Y6J|B013ALA9LA|     671157305|TP-Link OnHub AC1...|              PC|          5|           24|         31|   N|                N|OnHub is a pretty...|I am a Google emp...| 2015-08-31|\n",
            "|         US|   33168772|R25D83AEJRXUWO|B011KFQASE|     179405799|Asus F555LA-AB31 ...|              PC|          4|           18|         21|   N|                Y|Nice Solid 1080p ...|A nice solid lapt...| 2015-08-31|\n",
            "|         US|   37757447|R1S9O5CCTD61ZD|B00QR2CY6S|     819547817|Fusion4K High Spe...|              PC|          1|           45|         71|   N|                N|Same performance ...|I've never seen s...| 2015-08-31|\n",
            "|         US|   29916900|R351KVE3VO78W9|B00WIX4JMC|     358854957|FIDO U2F Security...|              PC|          3|           36|         42|   N|                Y|1) It isn't sturd...|It works but ther...| 2015-08-31|\n",
            "|         US|    2054169| R4LANIHO6EXAH|B00XPXFW7U|     590055383|CaseBuy Soft Sili...|              PC|          4|           35|         35|   N|                Y|        Pretty good!|I just got my key...| 2015-08-31|\n",
            "|         US|   45557365|R3V26MZUOWAUA4|B00XKU47Y2|     242671524|Opolar Laptop Cooler|              PC|          3|           35|         45|   N|                Y|Fan does good job...|The fan itself wo...| 2015-08-31|\n",
            "|         US|   43049754|R38OLNY5GR1PW6|B00X2JQ8K2|     954779825|TAB A case, Samsu...|              PC|          5|           44|         44|   N|                Y|Stylish Case for ...|Love, Love, Love ...| 2015-08-31|\n",
            "|         US|   50454721|R2GK7RJNIAREIT|B008P54T1I|     857605204|Apple 45W MagSafe...|              PC|          1|           30|         32|   N|                Y|        Don't buy it|This power adapte...| 2015-08-31|\n",
            "|         US|   36507132|R2OWRP6FXXECMK|B00R45V3SW|     274617078|Seagate Backup Pl...|              PC|          1|           42|         44|   N|                Y|Bought 2 new driv...|[UPDATED Jan 21, ...| 2015-08-31|\n",
            "|         US|   42740308| ROR2FE6Y8EZYG|B00R92CEVU|     678269222|NETGEAR CM500 (16...|              PC|          5|           19|         22|   N|                Y|Lightning fast --...|Lightning fast --...| 2015-08-31|\n",
            "|         US|   28275625|R1UWNRDWUZR68D|B004D3QOPA|     504400007|Gigabit 1000BT De...|              PC|          3|           60|         60|   N|                Y|Good for a couple...|Ok.. I purchased ...| 2015-08-31|\n",
            "|         US|    7599429| RIJYX8PG45XOB|B00WHYSHF2|     768120866| Poin2 Chromebook 11|              PC|          5|           51|         52|   N|                Y|it brings really ...|My husband is a t...| 2015-08-31|\n",
            "|         US|   25506832|R24PUIWP0XB411|B013NH0IEE|     476320409|SZAC Micro SD Car...|              PC|          1|           27|         27|   N|                Y|Good luck getting...|Don't be fooled w...| 2015-08-31|\n",
            "|         US|   20457564| RBYFK3W84LW9F|B010SBAJDS|     904532960|Toshiba Satellite...|              PC|          2|           32|         37|   N|                Y|Not impressed. Di...|I purchased 4 of ...| 2015-08-31|\n",
            "|         US|   35314326| RT880ROJ1I4Z5|B00JFCD2R2|     158990248|HP 753960-B21 NVI...|              PC|          5|           22|         31|   N|                N|Rendering your wo...|Best graphics car...| 2015-08-31|\n",
            "|         US|   21407360|R2ICLUNZ6A5DXB|B00DVISMCG|     392617397|Crucial Ballistix...|              PC|          1|           16|         23|   N|                Y|Timing was differ...|Product descripti...| 2015-08-31|\n",
            "|         US|   47301751|R3H11HIP4SCL9V|B00UTV8OEE|     423270920|ASUS Transformer ...|              PC|          5|           31|         33|   N|                Y|This is a good cr...|This is a good cr...| 2015-08-31|\n",
            "|         US|   47378845| RPG85MPSR10JG|B00MA5U1FW|     908032034|ARRIS SURFboard D...|              PC|          1|           23|         26|   N|                Y|the service was w...|Apparently I know...| 2015-08-31|\n",
            "|         US|   42477503|R2UAVRDG3AUF3K|B013ALA9LA|     671157305|TP-Link OnHub AC1...|              PC|          5|           14|         21|   N|                N|OnHub delivers on...|Clean design. Fee...| 2015-08-31|\n",
            "|         US|   18283551|R2CEZU1K5CVLRL|B007GMPZ0A|      95631789|TP-LINK N900 2.4G...|              PC|          1|           17|         22|   N|                Y|This product does...|The short version...| 2015-08-31|\n",
            "+-----------+-----------+--------------+----------+--------------+--------------------+----------------+-----------+-------------+-----------+----+-----------------+--------------------+--------------------+-----------+\n",
            "only showing top 20 rows\n",
            "\n"
          ],
          "name": "stdout"
        }
      ]
    },
    {
      "cell_type": "code",
      "metadata": {
        "id": "xsTiNToJLbm9",
        "outputId": "65a8ed4a-864f-4940-b2ba-c2a64c1d0b03",
        "colab": {
          "base_uri": "https://localhost:8080/"
        }
      },
      "source": [
        "five_star_vine_count = is_vine.filter(\"star_rating=5\").count()\n",
        "total_vine_count = is_vine.count()\n",
        "percentage_of_5_stars = five_star_vine_count/total_vine_count * 100\n",
        "print(f'Total number of 5 star reviews: {five_star_vine_count}, Total number reviews: {total_vine_count}, Percentage of 5 stars: {percentage_of_5_stars}')"
      ],
      "execution_count": 30,
      "outputs": [
        {
          "output_type": "stream",
          "text": [
            "Total number of 5 star reviews: 746, Total number reviews: 1693, Percentage of 5 stars: 44.063792085056114\n"
          ],
          "name": "stdout"
        }
      ]
    },
    {
      "cell_type": "code",
      "metadata": {
        "id": "H1kJJ4PCLbgY",
        "outputId": "bb0b722d-f942-44ec-ad85-5f91ae00a38e",
        "colab": {
          "base_uri": "https://localhost:8080/"
        }
      },
      "source": [
        "five_star_nvine_count = is_not_vine.filter(\"star_rating=5\").count()\n",
        "total_nvine_count = is_not_vine.count()\n",
        "percentage_of_5_stars = five_star_nvine_count/total_nvine_count * 100\n",
        "print(f'Total number of 5 star reviews: {five_star_nvine_count}, Total number reviews: {total_nvine_count}, Percentage of 5 stars: {percentage_of_5_stars}')"
      ],
      "execution_count": 32,
      "outputs": [
        {
          "output_type": "stream",
          "text": [
            "Total number of 5 star reviews: 33980, Total number reviews: 72775, Percentage of 5 stars: 46.69185846788045\n"
          ],
          "name": "stdout"
        }
      ]
    },
    {
      "cell_type": "code",
      "metadata": {
        "id": "QAAUdCpBPW3y"
      },
      "source": [
        ""
      ],
      "execution_count": null,
      "outputs": []
    }
  ]
}